{
  "nbformat": 4,
  "nbformat_minor": 0,
  "metadata": {
    "colab": {
      "name": "Day1.ipynb",
      "provenance": []
    },
    "kernelspec": {
      "name": "python3",
      "display_name": "Python 3"
    }
  },
  "cells": [
    {
      "cell_type": "code",
      "metadata": {
        "id": "hNkYhq2vOuyw",
        "colab_type": "code",
        "colab": {}
      },
      "source": [
        "from sklearn import datasets\n",
        "iris = datasets.load_iris()\n",
        "X = iris.data[:, :2] \n",
        "y = iris.target\n"
      ],
      "execution_count": 0,
      "outputs": []
    },
    {
      "cell_type": "code",
      "metadata": {
        "id": "yFYCQW-8Pjya",
        "colab_type": "code",
        "colab": {
          "base_uri": "https://localhost:8080/",
          "height": 34
        },
        "outputId": "b18c8f55-2936-41ff-d863-0f7c4f6fd5bb"
      },
      "source": [
        "from sklearn.model_selection import KFold\n",
        "kf = KFold(n_splits=3,shuffle = True)\n",
        "kf.get_n_splits(X)"
      ],
      "execution_count": 2,
      "outputs": [
        {
          "output_type": "execute_result",
          "data": {
            "text/plain": [
              "3"
            ]
          },
          "metadata": {
            "tags": []
          },
          "execution_count": 2
        }
      ]
    },
    {
      "cell_type": "code",
      "metadata": {
        "id": "_AUPp6uIQMA2",
        "colab_type": "code",
        "colab": {
          "base_uri": "https://localhost:8080/",
          "height": 34
        },
        "outputId": "bd0e8f33-344a-4661-f5c8-37dbac6e8ac3"
      },
      "source": [
        "print(kf)"
      ],
      "execution_count": 3,
      "outputs": [
        {
          "output_type": "stream",
          "text": [
            "KFold(n_splits=3, random_state=None, shuffle=True)\n"
          ],
          "name": "stdout"
        }
      ]
    },
    {
      "cell_type": "code",
      "metadata": {
        "id": "cfIgMC1tUY7C",
        "colab_type": "code",
        "colab": {}
      },
      "source": [
        "params_grid = [{'kernel': ['rbf'], 'gamma': [1e-3, 1e-4],\n",
        "                     'C': [1, 10, 100, 1000]},\n",
        "                    {'kernel': ['linear'], 'C': [1, 10, 100, 1000]}]"
      ],
      "execution_count": 0,
      "outputs": []
    },
    {
      "cell_type": "code",
      "metadata": {
        "id": "uLkq7tU9Rbn-",
        "colab_type": "code",
        "colab": {
          "base_uri": "https://localhost:8080/",
          "height": 272
        },
        "outputId": "6031b343-4490-40de-d289-042af0a5c196"
      },
      "source": [
        "from sklearn.model_selection import  GridSearchCV\n",
        "from sklearn.svm import SVC\n",
        "from sklearn.metrics import accuracy_score\n",
        "for train_index, test_index in kf.split(X):\n",
        " #   print(\"TRAIN:\", train_index, \"TEST:\", test_index)\n",
        "    X_train, X_test = X[train_index], X[test_index]\n",
        "    y_train, y_test = y[train_index], y[test_index]\n",
        "    svm_model = GridSearchCV(SVC(), params_grid, cv=5)\n",
        "    svm_model.fit(X_train, y_train)\n",
        "    final_model = svm_model.best_estimator_\n",
        "    Y_pred = final_model.predict(X_test)\n",
        "    print(\"Result:\", Y_pred,\"\\n\",y_test)\n",
        "    print(\"Accuracy score\",accuracy_score(Y_pred, y_test))\n",
        "  \n"
      ],
      "execution_count": 5,
      "outputs": [
        {
          "output_type": "stream",
          "text": [
            "Result: [0 0 0 0 0 0 0 0 0 0 0 0 2 1 1 1 1 1 1 2 1 1 2 1 1 1 1 1 1 2 2 1 2 2 2 2 2\n",
            " 2 1 2 2 2 1 1 2 2 2 2 1 1] \n",
            " [0 0 0 0 0 0 0 0 0 0 0 0 1 1 1 1 1 1 1 1 1 1 1 1 1 1 1 1 1 2 2 2 2 2 2 2 2\n",
            " 2 2 2 2 2 2 2 2 2 2 2 2 2]\n",
            "Accuracy score 0.82\n",
            "Result: [0 0 0 0 0 0 0 0 0 0 0 0 0 0 0 0 2 2 2 2 1 2 2 2 2 2 2 2 2 2 1 2 1 2 2 1 1\n",
            " 1 2 2 2 2 2 2 2 2 2 2 2 2] \n",
            " [0 0 0 0 0 0 0 0 0 0 0 0 0 0 0 0 1 1 1 1 1 1 1 1 1 1 1 1 1 1 1 1 1 1 1 1 1\n",
            " 1 2 2 2 2 2 2 2 2 2 2 2 2]\n",
            "Accuracy score 0.68\n",
            "Result: [0 0 0 0 0 0 0 0 0 0 0 0 0 0 0 0 0 0 0 0 0 0 2 2 1 1 1 1 1 1 1 1 1 1 1 2 1\n",
            " 1 2 2 1 1 1 1 1 2 2 1 2 1] \n",
            " [0 0 0 0 0 0 0 0 0 0 0 0 0 0 0 0 0 0 0 0 0 0 1 1 1 1 1 1 1 1 1 1 1 2 2 2 2\n",
            " 2 2 2 2 2 2 2 2 2 2 2 2 2]\n",
            "Accuracy score 0.74\n"
          ],
          "name": "stdout"
        }
      ]
    },
    {
      "cell_type": "code",
      "metadata": {
        "id": "6uGF7tVUVrxt",
        "colab_type": "code",
        "colab": {}
      },
      "source": [
        ""
      ],
      "execution_count": 0,
      "outputs": []
    },
    {
      "cell_type": "code",
      "metadata": {
        "id": "RHVcOCRPXlYs",
        "colab_type": "code",
        "colab": {}
      },
      "source": [
        ""
      ],
      "execution_count": 0,
      "outputs": []
    }
  ]
}